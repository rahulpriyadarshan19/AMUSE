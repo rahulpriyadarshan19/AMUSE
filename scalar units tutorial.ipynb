{
 "cells": [
  {
   "cell_type": "code",
   "execution_count": 2,
   "id": "688c6dcb",
   "metadata": {},
   "outputs": [],
   "source": [
    "import numpy as np\n",
    "from amuse.units import units"
   ]
  },
  {
   "cell_type": "code",
   "execution_count": 3,
   "id": "589ab361",
   "metadata": {},
   "outputs": [
    {
     "data": {
      "text/plain": [
       "quantity<29.7789148834 kms>"
      ]
     },
     "execution_count": 3,
     "metadata": {},
     "output_type": "execute_result"
    }
   ],
   "source": [
    "#assignment 1: orbital velocity of earth around sun \n",
    "G = 6.67*10**-11 | units.m**3*units.kg**-1*units.s**-2\n",
    "Msun = 1 | units.MSun\n",
    "R = 1 | units.AU\n",
    "\n",
    "v_orb = np.sqrt(G*Msun/R)\n",
    "v_orb.in_((units.kms))"
   ]
  },
  {
   "cell_type": "code",
   "execution_count": 4,
   "id": "cf80cedf",
   "metadata": {},
   "outputs": [
    {
     "data": {
      "text/plain": [
       "quantity<14.3652880081 kms>"
      ]
     },
     "execution_count": 4,
     "metadata": {},
     "output_type": "execute_result"
    }
   ],
   "source": [
    "#assignment 2: escape velocity of Sagittarius A* from S2\n",
    "M_S2 = 14 | units.MSun\n",
    "R_orbit = 18*10**9 | units.km\n",
    "\n",
    "v_esc = np.sqrt(2*G*M_S2/R_orbit)\n",
    "v_esc.in_((units.kms))"
   ]
  },
  {
   "cell_type": "code",
   "execution_count": 19,
   "id": "b881de55",
   "metadata": {},
   "outputs": [
    {
     "name": "stdout",
     "output_type": "stream",
     "text": [
      "10.4204495083 kms\n",
      "53.8329469917 kms\n",
      "Range of vertical velocities is  21.5792746316 kms - 64.991772115 kms\n",
      "Range of impact velocities is  36.7756558781 kms - 71.489259433 kms\n"
     ]
    }
   ],
   "source": [
    "#question 1: range of velocities of asteroids hitting earth's surface\n",
    "M_earth = 1 | units.MEarth\n",
    "#minimum a is such that collisions should be atleast possible, i.e. a(1+e) = 1 AU so that min a = 0.714 AU\n",
    "a = np.linspace(0.714, 3.5, 100) | units.AU\n",
    "e = np.linspace(0, 0.4, 100)\n",
    "\n",
    "pericenter_speeds = np.array([])\n",
    "apocenter_speeds = np.array([])\n",
    "\n",
    "def pericenter_speed(a, e):\n",
    "    return ((1 + e)*G*Msun/((1 - e)*a)).sqrt()\n",
    "\n",
    "def apocenter_speed(a, e):\n",
    "    return ((1 - e)*G*Msun/((1 + e)*a)).sqrt()\n",
    "\n",
    "#minimum speed is obtained at the aphelion of the asteroid's orbit\n",
    "#maximum speed is obtained at the perihelion of the asteroid's orbit\n",
    "for i in range(len(a)):\n",
    "    for j in range(len(e)):\n",
    "        pericenter_speeds = np.append(pericenter_speeds, pericenter_speed(a[i], e[j]))\n",
    "        apocenter_speeds = np.append(apocenter_speeds, apocenter_speed(a[i], e[j]))\n",
    "        \n",
    "min_speed = np.min(apocenter_speeds).in_(units.kms)\n",
    "max_speed = np.max(pericenter_speeds).in_(units.kms)\n",
    "print(min_speed)\n",
    "print(max_speed)\n",
    "#min and max speeds are obtained at L1 (0.01 AU), beyond which\n",
    "#the earth's gravitational field influences the asteroid and it begins freefall\n",
    "\n",
    "#vertical velocity upon impact is given by the free fall equation\n",
    "r = 6371 | units.km\n",
    "d = 0.01 | units.AU\n",
    "v_impact = (2*G*M_earth*(1/r - 1/(r + d))).sqrt()\n",
    "min_vertical_speed = (v_impact + min_speed).in_(units.kms)\n",
    "max_vertical_speed = (v_impact + max_speed).in_(units.kms)\n",
    "print(\"Range of vertical velocities is \", min_vertical_speed, \"-\", max_vertical_speed)\n",
    "\n",
    "#total impact velocity is obtained by vector addition of vertical impact velocity with the earth's orbital speed\n",
    "v_min = ((v_orb**2 + min_vertical_speed**2).sqrt()).in_(units.kms)\n",
    "v_max = ((v_orb**2 + max_vertical_speed**2).sqrt()).in_(units.kms)\n",
    "print(\"Range of impact velocities is \", v_min, \"-\", v_max)"
   ]
  },
  {
   "cell_type": "code",
   "execution_count": 31,
   "id": "e3693318",
   "metadata": {},
   "outputs": [
    {
     "data": {
      "text/plain": [
       "quantity<5776.969449972815 K>"
      ]
     },
     "execution_count": 31,
     "metadata": {},
     "output_type": "execute_result"
    }
   ],
   "source": [
    "#question 2: sun's luminosity\n",
    "sigma = units.constants.Stefan_hyphen_Boltzmann_constant\n",
    "Tsun = 5772 | units.K\n",
    "Rsun = 1 | units.RSun\n",
    "Asun = 4*np.pi*Rsun**2\n",
    "Lsun = sigma*Asun*Tsun**4\n",
    "Lsun_ac = 1 | units.LSun\n",
    "Lsun.in_((units.LSun))\n",
    "\n",
    "#since luminosity is proportional to the fourth power of temperature,\n",
    "#Tsun_ac is obtained as follows\n",
    "Tsun_ac = Tsun*(Lsun_ac/Lsun)**0.25\n",
    "Tsun_ac"
   ]
  },
  {
   "cell_type": "code",
   "execution_count": null,
   "id": "6f9c602f",
   "metadata": {},
   "outputs": [],
   "source": []
  }
 ],
 "metadata": {
  "kernelspec": {
   "display_name": "Python 3 (ipykernel)",
   "language": "python",
   "name": "python3"
  },
  "language_info": {
   "codemirror_mode": {
    "name": "ipython",
    "version": 3
   },
   "file_extension": ".py",
   "mimetype": "text/x-python",
   "name": "python",
   "nbconvert_exporter": "python",
   "pygments_lexer": "ipython3",
   "version": "3.10.6"
  }
 },
 "nbformat": 4,
 "nbformat_minor": 5
}
